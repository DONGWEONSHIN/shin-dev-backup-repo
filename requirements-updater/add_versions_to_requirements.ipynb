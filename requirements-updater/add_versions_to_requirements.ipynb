{
 "cells": [
  {
   "cell_type": "code",
   "execution_count": 2,
   "metadata": {},
   "outputs": [],
   "source": [
    "# Python : 3.10.16\n",
    "# Created: Jan. 16. 2025\n",
    "# Updated: Jan. 16. 2025\n",
    "# Author: D.W. SHIN"
   ]
  },
  {
   "cell_type": "markdown",
   "metadata": {},
   "source": [
    "# requirements.txt 버전 자동 추가 노트북\n",
    "\n",
    "이 노트북은 `requirements.txt` 파일에 누락된 패키지 버전을 자동으로 추가하는 스크립트를 실행하기 위해 작성되었습니다.\n",
    "\n",
    "**주요 단계**:\n",
    "1. `requirements.txt` 파일을 불러옵니다.\n",
    "2. 현재 환경에 설치된 패키지 정보를 가져옵니다.\n",
    "3. 버전이 누락된 경우, 해당 버전을 추가합니다.\n",
    "4. 업데이트된 내용을 저장합니다.\n",
    "\n",
    "**필요 조건**:\n",
    "- Python >= 3.7\n",
    "- `pkg_resources` 라이브러리 (기본적으로 Python `setuptools`에 포함)\n",
    "\n",
    "**테스트 시**:\n",
    "- requirements_sample.txt를 requirements.txt로 변경 후 테스트를 진행 합니다.\n"
   ]
  },
  {
   "cell_type": "markdown",
   "metadata": {},
   "source": [
    "## 1단계: Python 버전 확인\n",
    "\n",
    "현재 Python 버전을 확인합니다. 이 노트북은 Python 3.7 이상에서 작동합니다.\n"
   ]
  },
  {
   "cell_type": "code",
   "execution_count": 3,
   "metadata": {},
   "outputs": [
    {
     "name": "stdout",
     "output_type": "stream",
     "text": [
      "Python 3.10.16\n"
     ]
    }
   ],
   "source": [
    "!python --version"
   ]
  },
  {
   "cell_type": "markdown",
   "metadata": {},
   "source": [
    "## 2단계: 라이브러리 불러오기\n",
    "\n",
    "`pkg_resources`를 사용하여 현재 설치된 Python 패키지와 버전 정보를 가져옵니다.\n"
   ]
  },
  {
   "cell_type": "code",
   "execution_count": 4,
   "metadata": {},
   "outputs": [
    {
     "name": "stderr",
     "output_type": "stream",
     "text": [
      "/tmp/ipykernel_274352/2554037685.py:1: DeprecationWarning: pkg_resources is deprecated as an API. See https://setuptools.pypa.io/en/latest/pkg_resources.html\n",
      "  import pkg_resources\n"
     ]
    }
   ],
   "source": [
    "import pkg_resources\n",
    "\n",
    "installed_packages = {pkg.key: pkg.version for pkg in pkg_resources.working_set}"
   ]
  },
  {
   "cell_type": "markdown",
   "metadata": {},
   "source": [
    "## 3단계: `requirements.txt` 파일 읽기\n",
    "\n",
    "버전을 추가할 대상인 `requirements.txt` 파일을 읽어옵니다. 파일이 없을 경우, 오류가 발생하지 않도록 처리할 수도 있습니다.\n"
   ]
  },
  {
   "cell_type": "code",
   "execution_count": 5,
   "metadata": {},
   "outputs": [],
   "source": [
    "requirements_file = \"requirements.txt\"\n",
    "\n",
    "try:\n",
    "    with open(requirements_file, \"r\") as file:\n",
    "        lines = file.readlines()\n",
    "except FileNotFoundError:\n",
    "    print(f\"Error : {requirements_file} 파일을 찾을 수 없습니다.\")\n",
    "    lines = []"
   ]
  },
  {
   "cell_type": "markdown",
   "metadata": {},
   "source": [
    "## 4단계: requirements.txt 처리\n",
    "\n",
    "`requirements.txt`의 각 줄을 확인하여 다음 작업을 수행합니다:\n",
    "1. 주석 또는 빈 줄은 그대로 유지합니다.\n",
    "2. 설치된 패키지를 확인하고, 버전이 누락된 경우 추가합니다.\n",
    "3. 설치되지 않은 패키지는 변경하지 않습니다.\n"
   ]
  },
  {
   "cell_type": "code",
   "execution_count": 6,
   "metadata": {},
   "outputs": [],
   "source": [
    "updated_lines = []\n",
    "\n",
    "for line in lines:\n",
    "    line = line.strip()\n",
    "    if not line or line.startswith(\"#\"):    # 빈줄 또는 주석\n",
    "        updated_lines.append(line)\n",
    "        continue\n",
    "\n",
    "    pkg_name = line.split(\"==\")[0].split(\"[\")[0].strip()\n",
    "    if pkg_name in installed_packages:\n",
    "        version = installed_packages[pkg_name]\n",
    "        if \"==\" not in line:                # 버전이 없으면 추가\n",
    "            updated_lines.append(f\"{line}=={version}\")\n",
    "        else:                               # 버전이 이미 있으면 유지\n",
    "            updated_lines.append(line)\n",
    "    else:                                   # 설치되지 않은 패키지는 그대로 유지\n",
    "        updated_lines.append(line)"
   ]
  },
  {
   "cell_type": "markdown",
   "metadata": {},
   "source": [
    "## 5단계: 업데이트된 파일 저장\n",
    "\n",
    "모든 변경 사항을 `requirements.txt` 파일에 저장합니다.\n"
   ]
  },
  {
   "cell_type": "code",
   "execution_count": 7,
   "metadata": {},
   "outputs": [
    {
     "name": "stdout",
     "output_type": "stream",
     "text": [
      "업데이트된 requirements.txt 파일이 저장되었습니다.\n"
     ]
    }
   ],
   "source": [
    "with open(requirements_file, \"w\") as file:\n",
    "    file.write(\"\\n\".join(updated_lines))\n",
    "print(\"업데이트된 requirements.txt 파일이 저장되었습니다.\")"
   ]
  },
  {
   "cell_type": "markdown",
   "metadata": {},
   "source": [
    "## 6단계: 결과 확인\n",
    "\n",
    "업데이트된 내용을 확인하여 변경 사항이 제대로 적용되었는지 검토합니다.\n"
   ]
  },
  {
   "cell_type": "code",
   "execution_count": 8,
   "metadata": {},
   "outputs": [
    {
     "name": "stdout",
     "output_type": "stream",
     "text": [
      "python-dotenv==1.0.1\n",
      "langchain==0.3.13\n",
      "langgraph==0.2.60\n",
      "langchain-openai==0.2.14\n",
      "langchain-huggingface==0.1.2\n",
      "langchain-together==0.2.0\n",
      "langchain-community==0.3.13\n",
      "faiss-cpu==1.9.0.post1\n",
      "jupyter==1.1.1\n",
      "notebook==7.3.2\n",
      "chardet==5.2.0\n",
      "markitdown==0.0.1a3\n",
      "unstructured==0.16.11\n",
      "unstructured[pdf]==0.16.11\n",
      "pypdf==4.3.1\n",
      "arxiv==2.1.3\n",
      "pymupdf==1.25.1\n",
      "rapidocr-onnxruntime==1.4.3\n",
      "fastembed==0.5.0\n",
      "certifi==2024.12.14\n",
      "psycopg2-binary==2.9.10\n",
      "\n",
      "python-magic==0.4.27\n",
      "\n",
      "pyalex==0.15.1\n",
      "pypdfium2==4.30.1\n",
      "pdfplumber==0.11.5\n"
     ]
    }
   ],
   "source": [
    "for line in updated_lines:\n",
    "    print(line)"
   ]
  },
  {
   "cell_type": "code",
   "execution_count": null,
   "metadata": {},
   "outputs": [],
   "source": []
  }
 ],
 "metadata": {
  "kernelspec": {
   "display_name": "agent_venv",
   "language": "python",
   "name": "python3"
  },
  "language_info": {
   "codemirror_mode": {
    "name": "ipython",
    "version": 3
   },
   "file_extension": ".py",
   "mimetype": "text/x-python",
   "name": "python",
   "nbconvert_exporter": "python",
   "pygments_lexer": "ipython3",
   "version": "3.10.16"
  }
 },
 "nbformat": 4,
 "nbformat_minor": 2
}
