{
 "cells": [
  {
   "cell_type": "code",
   "execution_count": 23,
   "metadata": {},
   "outputs": [],
   "source": [
    "import pandas as pd\n",
    "import folium\n",
    "from folium.plugins import MarkerCluster\n",
    "import joblib"
   ]
  },
  {
   "cell_type": "code",
   "execution_count": 24,
   "metadata": {},
   "outputs": [],
   "source": [
    "# 1. 데이터 및 모델 로드\n",
    "df = pd.read_csv(\"../data/cleaned_apt_trades_mapo_2024.csv\")\n",
    "model = joblib.load(\"../models/xgboost_price_model.pkl\")"
   ]
  },
  {
   "cell_type": "code",
   "execution_count": 25,
   "metadata": {},
   "outputs": [
    {
     "name": "stdout",
     "output_type": "stream",
     "text": [
      "<class 'pandas.core.frame.DataFrame'>\n",
      "RangeIndex: 2679 entries, 0 to 2678\n",
      "Data columns (total 11 columns):\n",
      " #   Column         Non-Null Count  Dtype  \n",
      "---  ------         --------------  -----  \n",
      " 0   apt_name       2679 non-null   object \n",
      " 1   district       2679 non-null   object \n",
      " 2   road_address   2679 non-null   object \n",
      " 3   price          2679 non-null   int64  \n",
      " 4   area_m2        2679 non-null   float64\n",
      " 5   floor          2679 non-null   int64  \n",
      " 6   year_built     2679 non-null   int64  \n",
      " 7   contract_date  2679 non-null   object \n",
      " 8   address        2679 non-null   object \n",
      " 9   lat            2679 non-null   float64\n",
      " 10  lng            2679 non-null   float64\n",
      "dtypes: float64(3), int64(3), object(5)\n",
      "memory usage: 230.4+ KB\n"
     ]
    }
   ],
   "source": [
    "df.info()"
   ]
  },
  {
   "cell_type": "code",
   "execution_count": 26,
   "metadata": {},
   "outputs": [
    {
     "data": {
      "text/html": [
       "<div>\n",
       "<style scoped>\n",
       "    .dataframe tbody tr th:only-of-type {\n",
       "        vertical-align: middle;\n",
       "    }\n",
       "\n",
       "    .dataframe tbody tr th {\n",
       "        vertical-align: top;\n",
       "    }\n",
       "\n",
       "    .dataframe thead th {\n",
       "        text-align: right;\n",
       "    }\n",
       "</style>\n",
       "<table border=\"1\" class=\"dataframe\">\n",
       "  <thead>\n",
       "    <tr style=\"text-align: right;\">\n",
       "      <th></th>\n",
       "      <th>apt_name</th>\n",
       "      <th>district</th>\n",
       "      <th>road_address</th>\n",
       "      <th>price</th>\n",
       "      <th>area_m2</th>\n",
       "      <th>floor</th>\n",
       "      <th>year_built</th>\n",
       "      <th>contract_date</th>\n",
       "      <th>address</th>\n",
       "      <th>lat</th>\n",
       "      <th>lng</th>\n",
       "    </tr>\n",
       "  </thead>\n",
       "  <tbody>\n",
       "  </tbody>\n",
       "</table>\n",
       "</div>"
      ],
      "text/plain": [
       "Empty DataFrame\n",
       "Columns: [apt_name, district, road_address, price, area_m2, floor, year_built, contract_date, address, lat, lng]\n",
       "Index: []"
      ]
     },
     "execution_count": 26,
     "metadata": {},
     "output_type": "execute_result"
    }
   ],
   "source": [
    "df[df['lat'].isna()]"
   ]
  },
  {
   "cell_type": "code",
   "execution_count": null,
   "metadata": {},
   "outputs": [],
   "source": [
    "# 공덕1삼성래미안\n",
    "# 서울 마포구 마포대로 115-8,37.5459150093178,126.950622303108\n",
    "\n",
    "# 예지안파크뷰\n",
    "# 서울 마포구 방울내로1길 41-14,37.5594970166829,126.896596182273"
   ]
  },
  {
   "cell_type": "code",
   "execution_count": 27,
   "metadata": {},
   "outputs": [],
   "source": [
    "# 2. 예측값 계산 및 가성비 지표 생성\n",
    "features = [\"area_m2\", \"floor\", \"year_built\", \"lat\", \"lng\"]\n",
    "df[\"predicted\"] = model.predict(df[features])\n",
    "df[\"value_ratio\"] = df[\"price\"] / df[\"predicted\"]  # 1보다 작으면 예측보다 저렴"
   ]
  },
  {
   "cell_type": "code",
   "execution_count": 28,
   "metadata": {},
   "outputs": [],
   "source": [
    "# 3. 지도 생성 (마포구 중심)\n",
    "m = folium.Map(location=[37.55, 126.94], zoom_start=13)\n",
    "marker_cluster = MarkerCluster().add_to(m)"
   ]
  },
  {
   "cell_type": "code",
   "execution_count": 29,
   "metadata": {},
   "outputs": [],
   "source": [
    "# 4. 마커 추가\n",
    "for _, row in df.iterrows():\n",
    "    color = (\n",
    "        \"green\"\n",
    "        if row[\"value_ratio\"] < 0.9\n",
    "        else (\"orange\" if row[\"value_ratio\"] <= 1.1 else \"red\")\n",
    "    )\n",
    "    tooltip = f\"{row['apt_name']} ({row['contract_date']})\\n\\n실제: {row['price']:.0f} / 예측: {row['predicted']:.0f}\"\n",
    "    folium.CircleMarker(\n",
    "        location=(row[\"lat\"], row[\"lng\"]),\n",
    "        radius=6,\n",
    "        color=color,\n",
    "        fill=True,\n",
    "        fill_opacity=0.7,\n",
    "        tooltip=tooltip,\n",
    "    ).add_to(marker_cluster)"
   ]
  },
  {
   "cell_type": "code",
   "execution_count": null,
   "metadata": {},
   "outputs": [
    {
     "name": "stdout",
     "output_type": "stream",
     "text": [
      "마포구 지도 저장 완료 : mapo_price_map.html\n"
     ]
    }
   ],
   "source": [
    "# 5. 저장\n",
    "m.save(\"../outputs/mapo_price_map.html\")\n",
    "print(\"마포구 지도 저장 완료 : mapo_price_map.html\")"
   ]
  },
  {
   "cell_type": "code",
   "execution_count": null,
   "metadata": {},
   "outputs": [],
   "source": []
  }
 ],
 "metadata": {
  "kernelspec": {
   "display_name": "realestate_venv",
   "language": "python",
   "name": "python3"
  },
  "language_info": {
   "codemirror_mode": {
    "name": "ipython",
    "version": 3
   },
   "file_extension": ".py",
   "mimetype": "text/x-python",
   "name": "python",
   "nbconvert_exporter": "python",
   "pygments_lexer": "ipython3",
   "version": "3.10.16"
  }
 },
 "nbformat": 4,
 "nbformat_minor": 2
}
