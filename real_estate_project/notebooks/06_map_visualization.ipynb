{
 "cells": [
  {
   "cell_type": "code",
   "execution_count": 2,
   "metadata": {},
   "outputs": [],
   "source": [
    "import pandas as pd\n",
    "import folium\n",
    "from folium.plugins import MarkerCluster\n",
    "import joblib"
   ]
  },
  {
   "cell_type": "code",
   "execution_count": 3,
   "metadata": {},
   "outputs": [],
   "source": [
    "# 1. 데이터 및 모델 로드\n",
    "df = pd.read_csv(\"../data/cleaned_apt_trades_mapo_2024.csv\")\n",
    "model = joblib.load(\"../models/xgboost_price_model.pkl\")"
   ]
  },
  {
   "cell_type": "code",
   "execution_count": 27,
   "metadata": {},
   "outputs": [],
   "source": [
    "# 2. 예측값 계산 및 가성비 지표 생성\n",
    "features = [\"area_m2\", \"floor\", \"year_built\", \"lat\", \"lng\"]\n",
    "df[\"predicted\"] = model.predict(df[features])\n",
    "df[\"value_ratio\"] = df[\"price\"] / df[\"predicted\"]  # 1보다 작으면 예측보다 저렴"
   ]
  },
  {
   "cell_type": "code",
   "execution_count": 28,
   "metadata": {},
   "outputs": [],
   "source": [
    "# 3. 지도 생성 (마포구 중심)\n",
    "m = folium.Map(location=[37.55, 126.94], zoom_start=13)\n",
    "marker_cluster = MarkerCluster().add_to(m)"
   ]
  },
  {
   "cell_type": "code",
   "execution_count": 29,
   "metadata": {},
   "outputs": [],
   "source": [
    "# 4. 마커 추가\n",
    "for _, row in df.iterrows():\n",
    "    color = (\n",
    "        \"green\"\n",
    "        if row[\"value_ratio\"] < 0.9\n",
    "        else (\"orange\" if row[\"value_ratio\"] <= 1.1 else \"red\")\n",
    "    )\n",
    "    tooltip = f\"{row['apt_name']} ({row['contract_date']})\\n\\n실제: {row['price']:.0f} / 예측: {row['predicted']:.0f}\"\n",
    "    folium.CircleMarker(\n",
    "        location=(row[\"lat\"], row[\"lng\"]),\n",
    "        radius=6,\n",
    "        color=color,\n",
    "        fill=True,\n",
    "        fill_opacity=0.7,\n",
    "        tooltip=tooltip,\n",
    "    ).add_to(marker_cluster)"
   ]
  },
  {
   "cell_type": "code",
   "execution_count": null,
   "metadata": {},
   "outputs": [
    {
     "name": "stdout",
     "output_type": "stream",
     "text": [
      "마포구 지도 저장 완료 : mapo_price_map.html\n"
     ]
    }
   ],
   "source": [
    "# 5. 저장\n",
    "m.save(\"../outputs/mapo_price_map.html\")\n",
    "print(\"마포구 지도 저장 완료 : mapo_price_map.html\")"
   ]
  },
  {
   "cell_type": "code",
   "execution_count": null,
   "metadata": {},
   "outputs": [],
   "source": []
  }
 ],
 "metadata": {
  "kernelspec": {
   "display_name": "realestate_venv",
   "language": "python",
   "name": "python3"
  },
  "language_info": {
   "codemirror_mode": {
    "name": "ipython",
    "version": 3
   },
   "file_extension": ".py",
   "mimetype": "text/x-python",
   "name": "python",
   "nbconvert_exporter": "python",
   "pygments_lexer": "ipython3",
   "version": "3.10.16"
  }
 },
 "nbformat": 4,
 "nbformat_minor": 2
}
