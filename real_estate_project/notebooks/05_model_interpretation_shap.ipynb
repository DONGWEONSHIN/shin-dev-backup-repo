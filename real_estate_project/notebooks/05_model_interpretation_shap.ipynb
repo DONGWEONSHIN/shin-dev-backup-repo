{
 "cells": [
  {
   "cell_type": "code",
   "execution_count": 1,
   "metadata": {},
   "outputs": [
    {
     "name": "stderr",
     "output_type": "stream",
     "text": [
      "/home/shin/miniconda3/envs/realestate_venv/lib/python3.10/site-packages/tqdm/auto.py:21: TqdmWarning: IProgress not found. Please update jupyter and ipywidgets. See https://ipywidgets.readthedocs.io/en/stable/user_install.html\n",
      "  from .autonotebook import tqdm as notebook_tqdm\n"
     ]
    }
   ],
   "source": [
    "import pandas as pd\n",
    "import shap\n",
    "import xgboost as xgb\n",
    "import joblib\n",
    "import matplotlib.pyplot as plt"
   ]
  },
  {
   "cell_type": "code",
   "execution_count": 2,
   "metadata": {},
   "outputs": [],
   "source": [
    "# 1. 데이터 및 모델 로드\n",
    "df = pd.read_csv(\"../data/cleaned_apt_trades_mapo_2024.csv\")\n",
    "model = joblib.load(\"../models/xgboost_price_model.pkl\")"
   ]
  },
  {
   "cell_type": "code",
   "execution_count": 3,
   "metadata": {},
   "outputs": [],
   "source": [
    "# 2. SHAP explainer 생성\n",
    "features = [\"area_m2\", \"floor\", \"year_built\", \"lat\", \"lng\"]\n",
    "X = df[features]\n",
    "explainer = shap.Explainer(model)\n",
    "shap_values = explainer(X)"
   ]
  },
  {
   "cell_type": "code",
   "execution_count": 4,
   "metadata": {},
   "outputs": [],
   "source": [
    "%matplotlib inline\n",
    "plt.rcParams[\"font.family\"] = \"NanumGothic\"\n",
    "plt.rcParams[\"axes.unicode_minus\"] = False"
   ]
  },
  {
   "cell_type": "code",
   "execution_count": 5,
   "metadata": {},
   "outputs": [
    {
     "name": "stdout",
     "output_type": "stream",
     "text": [
      "SHAP 변수 중요도 그래프 저장 완료 : shap_summary_plot.png\n"
     ]
    }
   ],
   "source": [
    "# 3. 변수 중요도 시각화 (summary plot)\n",
    "plt.figure()\n",
    "plt.title(\"SHAP 변수 중요도 순위\")\n",
    "shap.plots.beeswarm(shap_values, show=False)\n",
    "plt.tight_layout()\n",
    "plt.savefig(\"../outputs/shap_summary_plot.png\")\n",
    "plt.close()\n",
    "print(\"SHAP 변수 중요도 그래프 저장 완료 : shap_summary_plot.png\")"
   ]
  },
  {
   "cell_type": "code",
   "execution_count": 6,
   "metadata": {},
   "outputs": [
    {
     "name": "stdout",
     "output_type": "stream",
     "text": [
      "예시 거래에 대한 SHAP 해석 그래프 저장 완료: shap_waterfall_sample0.png\n"
     ]
    },
    {
     "name": "stderr",
     "output_type": "stream",
     "text": [
      "/home/shin/miniconda3/envs/realestate_venv/lib/python3.10/site-packages/shap/plots/_waterfall.py:279: UserWarning: Glyph 8722 (\\N{MINUS SIGN}) missing from font(s) NanumGothic.\n",
      "  text_bbox = txt_obj.get_window_extent(renderer=renderer)\n",
      "/tmp/ipykernel_357997/1649149219.py:6: UserWarning: Glyph 8722 (\\N{MINUS SIGN}) missing from font(s) NanumGothic.\n",
      "  plt.savefig(\"../outputs/shap_waterfall_sample0.png\")\n"
     ]
    }
   ],
   "source": [
    "# 4. 의사결정 예시 하나 출력\n",
    "plt.figure()\n",
    "sample_index = 0  # 첫 번째 샘플\n",
    "shap.plots.waterfall(shap_values[sample_index], max_display=10, show=False)\n",
    "plt.tight_layout()\n",
    "plt.savefig(\"../outputs/shap_waterfall_sample0.png\")\n",
    "plt.close()\n",
    "print(\"예시 거래에 대한 SHAP 해석 그래프 저장 완료: shap_waterfall_sample0.png\")"
   ]
  },
  {
   "cell_type": "code",
   "execution_count": null,
   "metadata": {},
   "outputs": [],
   "source": []
  }
 ],
 "metadata": {
  "kernelspec": {
   "display_name": "realestate_venv",
   "language": "python",
   "name": "python3"
  },
  "language_info": {
   "codemirror_mode": {
    "name": "ipython",
    "version": 3
   },
   "file_extension": ".py",
   "mimetype": "text/x-python",
   "name": "python",
   "nbconvert_exporter": "python",
   "pygments_lexer": "ipython3",
   "version": "3.10.16"
  }
 },
 "nbformat": 4,
 "nbformat_minor": 2
}
