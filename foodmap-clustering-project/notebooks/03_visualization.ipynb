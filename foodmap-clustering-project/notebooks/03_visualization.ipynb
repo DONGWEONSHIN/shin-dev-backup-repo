{
 "cells": [
  {
   "cell_type": "markdown",
   "metadata": {},
   "source": [
    "## ✅ 목표 요약\n",
    "\n",
    "- 클러스터링된 음식점 데이터 불러오기 (`mapo_restaurants_clustered.csv`)\n",
    "- Folium 지도 객체 생성\n",
    "- 클러스터에 따라 다른 색으로 마커 표시\n",
    "- HTML 파일로 저장"
   ]
  },
  {
   "cell_type": "markdown",
   "metadata": {},
   "source": [
    "## 📦 1. 라이브러리 불러오기 & 데이터 로드"
   ]
  },
  {
   "cell_type": "code",
   "execution_count": 13,
   "metadata": {},
   "outputs": [
    {
     "data": {
      "text/html": [
       "<div>\n",
       "<style scoped>\n",
       "    .dataframe tbody tr th:only-of-type {\n",
       "        vertical-align: middle;\n",
       "    }\n",
       "\n",
       "    .dataframe tbody tr th {\n",
       "        vertical-align: top;\n",
       "    }\n",
       "\n",
       "    .dataframe thead th {\n",
       "        text-align: right;\n",
       "    }\n",
       "</style>\n",
       "<table border=\"1\" class=\"dataframe\">\n",
       "  <thead>\n",
       "    <tr style=\"text-align: right;\">\n",
       "      <th></th>\n",
       "      <th>사업장명</th>\n",
       "      <th>지번주소</th>\n",
       "      <th>위도</th>\n",
       "      <th>경도</th>\n",
       "      <th>cluster</th>\n",
       "    </tr>\n",
       "  </thead>\n",
       "  <tbody>\n",
       "    <tr>\n",
       "      <th>0</th>\n",
       "      <td>해적쭈꾸미</td>\n",
       "      <td>서울특별시 마포구 망원동 394-89번지 1층</td>\n",
       "      <td>37.552936</td>\n",
       "      <td>126.903311</td>\n",
       "      <td>3</td>\n",
       "    </tr>\n",
       "    <tr>\n",
       "      <th>1</th>\n",
       "      <td>보물섬</td>\n",
       "      <td>서울특별시 마포구 아현동 326-24번지</td>\n",
       "      <td>37.555927</td>\n",
       "      <td>126.951907</td>\n",
       "      <td>1</td>\n",
       "    </tr>\n",
       "    <tr>\n",
       "      <th>2</th>\n",
       "      <td>굴다리식당</td>\n",
       "      <td>서울특별시 마포구 도화동 25-6번지 ,7</td>\n",
       "      <td>37.542255</td>\n",
       "      <td>126.948966</td>\n",
       "      <td>1</td>\n",
       "    </tr>\n",
       "    <tr>\n",
       "      <th>3</th>\n",
       "      <td>우리왕만두</td>\n",
       "      <td>서울특별시 마포구 대흥동 404-6번지</td>\n",
       "      <td>37.546144</td>\n",
       "      <td>126.938931</td>\n",
       "      <td>1</td>\n",
       "    </tr>\n",
       "    <tr>\n",
       "      <th>4</th>\n",
       "      <td>홀짝홀짝</td>\n",
       "      <td>서울특별시 마포구 서교동 355-25</td>\n",
       "      <td>37.553685</td>\n",
       "      <td>126.918553</td>\n",
       "      <td>0</td>\n",
       "    </tr>\n",
       "  </tbody>\n",
       "</table>\n",
       "</div>"
      ],
      "text/plain": [
       "    사업장명                        지번주소         위도          경도  cluster\n",
       "0  해적쭈꾸미  서울특별시 마포구 망원동 394-89번지 1층   37.552936  126.903311        3\n",
       "1    보물섬     서울특별시 마포구 아현동 326-24번지   37.555927  126.951907        1\n",
       "2  굴다리식당    서울특별시 마포구 도화동 25-6번지 ,7   37.542255  126.948966        1\n",
       "3  우리왕만두      서울특별시 마포구 대흥동 404-6번지   37.546144  126.938931        1\n",
       "4   홀짝홀짝       서울특별시 마포구 서교동 355-25   37.553685  126.918553        0"
      ]
     },
     "execution_count": 13,
     "metadata": {},
     "output_type": "execute_result"
    }
   ],
   "source": [
    "import pandas as pd\n",
    "import folium\n",
    "\n",
    "# 클러스터링된 데이터 불러오기\n",
    "df = pd.read_csv(\"../data/processed/mapo_restaurants_clustered.csv\")\n",
    "\n",
    "# 확인\n",
    "df.head()"
   ]
  },
  {
   "cell_type": "markdown",
   "metadata": {},
   "source": [
    "## 🗺️ 2. 지도 중심 좌표 계산"
   ]
  },
  {
   "cell_type": "code",
   "execution_count": 14,
   "metadata": {},
   "outputs": [],
   "source": [
    "# 위도/경도의 평균을 지도 중심으로 사용\n",
    "center_lat = df[\"위도\"].mean()\n",
    "center_lon = df[\"경도\"].mean()\n",
    "\n",
    "# Folium 지도 객체 생성\n",
    "m = folium.Map(location=[center_lat, center_lon], zoom_start=14)"
   ]
  },
  {
   "cell_type": "markdown",
   "metadata": {},
   "source": [
    "## 🎨 3. 색상 정의 및 마커 추가"
   ]
  },
  {
   "cell_type": "code",
   "execution_count": 15,
   "metadata": {},
   "outputs": [],
   "source": [
    "# 클러스터별 색상(최대 10개까지 구분 가능)\n",
    "colors = [\n",
    "    \"red\",\n",
    "    \"blue\",\n",
    "    \"green\",\n",
    "    \"purple\",\n",
    "    \"orange\",\n",
    "    \"darkred\",\n",
    "    \"cadetblue\",\n",
    "    \"pink\",\n",
    "    \"beige\",\n",
    "    \"darkblue\",\n",
    "]\n",
    "\n",
    "# 마커추가\n",
    "for _, row in df.iterrows():\n",
    "    folium.CircleMarker(\n",
    "        location=[row[\"위도\"], row[\"경도\"]],\n",
    "        radius=3,\n",
    "        color=colors[int(row[\"cluster\"]) % len(colors)],\n",
    "        fill=True,\n",
    "        fill_opacity=0.7,\n",
    "        popup=row[\"사업장명\"],\n",
    "    ).add_to(m)"
   ]
  },
  {
   "cell_type": "markdown",
   "metadata": {},
   "source": [
    "## 💾 4. 결과 저장 & 확인"
   ]
  },
  {
   "cell_type": "code",
   "execution_count": 16,
   "metadata": {},
   "outputs": [],
   "source": [
    "# 지도 결과 HTML로 저장\n",
    "m.save(\"../outputs/mapo_clusters.html\")"
   ]
  },
  {
   "cell_type": "markdown",
   "metadata": {},
   "source": [
    "## ✅ (선택) 클러스터 요약 시각화"
   ]
  },
  {
   "cell_type": "code",
   "execution_count": 17,
   "metadata": {},
   "outputs": [],
   "source": [
    "import matplotlib.pyplot as plt\n",
    "import platform\n",
    "\n",
    "# 한글 폰트 설정 (운영체체 별)\n",
    "if platform.system() == \"Windows\":\n",
    "    plt.rc(\"font\", family=\"Malgun Gothic\")\n",
    "elif platform.system() == \"Darwin\":\n",
    "    plt.rc(\"font\", family=\"AppleGothic\")\n",
    "else:\n",
    "    plt.rc(\"font\", family=\"NanumGothic\")\n",
    "\n",
    "# 마이너스 기호 깨짐 방지\n",
    "plt.rcParams[\"axes.unicode_minus\"] = False"
   ]
  },
  {
   "cell_type": "code",
   "execution_count": 18,
   "metadata": {},
   "outputs": [
    {
     "data": {
      "image/png": "[encoded data removed]",
      "text/plain": [
       "<Figure size 600x400 with 1 Axes>"
      ]
     },
     "metadata": {},
     "output_type": "display_data"
    }
   ],
   "source": [
    "import matplotlib.pyplot as plt\n",
    "\n",
    "cluster_counts = df[\"cluster\"].value_counts().sort_index()\n",
    "\n",
    "plt.figure(figsize=(6, 4))\n",
    "cluster_counts.plot(kind=\"bar\", color=\"skyblue\")\n",
    "plt.title(\"클러스터별 음식점 수\")\n",
    "plt.xlabel(\"클러스터 번호\")\n",
    "plt.ylabel(\"음식점 수\")\n",
    "plt.grid(True)\n",
    "plt.tight_layout()\n",
    "plt.savefig(\"../outputs/cluster_summary.png\")\n",
    "plt.show()"
   ]
  },
  {
   "cell_type": "code",
   "execution_count": null,
   "metadata": {},
   "outputs": [],
   "source": []
  }
 ],
 "metadata": {
  "kernelspec": {
   "display_name": "foodmap_venv",
   "language": "python",
   "name": "python3"
  },
  "language_info": {
   "codemirror_mode": {
    "name": "ipython",
    "version": 3
   },
   "file_extension": ".py",
   "mimetype": "text/x-python",
   "name": "python",
   "nbconvert_exporter": "python",
   "pygments_lexer": "ipython3",
   "version": "3.10.16"
  }
 },
 "nbformat": 4,
 "nbformat_minor": 2
}
