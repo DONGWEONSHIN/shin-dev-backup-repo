{
 "cells": [
  {
   "cell_type": "markdown",
   "metadata": {},
   "source": [
    "## ✅ 목표 요약\n",
    "\n",
    "- 전처리된 `mapo_restaurants.csv` 불러오기\n",
    "- `위도`, `경도` 데이터를 기반으로 클러스터링 수행\n",
    "- 각 음식점에 클러스터 라벨 부여"
   ]
  },
  {
   "cell_type": "markdown",
   "metadata": {},
   "source": [
    "## 📦 1. 라이브러리 불러오기 & 데이터 로드"
   ]
  },
  {
   "cell_type": "code",
   "execution_count": 66,
   "metadata": {},
   "outputs": [
    {
     "data": {
      "text/html": [
       "<div>\n",
       "<style scoped>\n",
       "    .dataframe tbody tr th:only-of-type {\n",
       "        vertical-align: middle;\n",
       "    }\n",
       "\n",
       "    .dataframe tbody tr th {\n",
       "        vertical-align: top;\n",
       "    }\n",
       "\n",
       "    .dataframe thead th {\n",
       "        text-align: right;\n",
       "    }\n",
       "</style>\n",
       "<table border=\"1\" class=\"dataframe\">\n",
       "  <thead>\n",
       "    <tr style=\"text-align: right;\">\n",
       "      <th></th>\n",
       "      <th>사업장명</th>\n",
       "      <th>지번주소</th>\n",
       "      <th>위도</th>\n",
       "      <th>경도</th>\n",
       "    </tr>\n",
       "  </thead>\n",
       "  <tbody>\n",
       "    <tr>\n",
       "      <th>0</th>\n",
       "      <td>해적쭈꾸미</td>\n",
       "      <td>서울특별시 마포구 망원동 394-89번지 1층</td>\n",
       "      <td>37.552936</td>\n",
       "      <td>126.903311</td>\n",
       "    </tr>\n",
       "    <tr>\n",
       "      <th>1</th>\n",
       "      <td>보물섬</td>\n",
       "      <td>서울특별시 마포구 아현동 326-24번지</td>\n",
       "      <td>37.555927</td>\n",
       "      <td>126.951907</td>\n",
       "    </tr>\n",
       "    <tr>\n",
       "      <th>2</th>\n",
       "      <td>굴다리식당</td>\n",
       "      <td>서울특별시 마포구 도화동 25-6번지 ,7</td>\n",
       "      <td>37.542255</td>\n",
       "      <td>126.948966</td>\n",
       "    </tr>\n",
       "    <tr>\n",
       "      <th>3</th>\n",
       "      <td>우리왕만두</td>\n",
       "      <td>서울특별시 마포구 대흥동 404-6번지</td>\n",
       "      <td>37.546144</td>\n",
       "      <td>126.938931</td>\n",
       "    </tr>\n",
       "    <tr>\n",
       "      <th>4</th>\n",
       "      <td>홀짝홀짝</td>\n",
       "      <td>서울특별시 마포구 서교동 355-25</td>\n",
       "      <td>37.553685</td>\n",
       "      <td>126.918553</td>\n",
       "    </tr>\n",
       "  </tbody>\n",
       "</table>\n",
       "</div>"
      ],
      "text/plain": [
       "    사업장명                        지번주소         위도          경도\n",
       "0  해적쭈꾸미  서울특별시 마포구 망원동 394-89번지 1층   37.552936  126.903311\n",
       "1    보물섬     서울특별시 마포구 아현동 326-24번지   37.555927  126.951907\n",
       "2  굴다리식당    서울특별시 마포구 도화동 25-6번지 ,7   37.542255  126.948966\n",
       "3  우리왕만두      서울특별시 마포구 대흥동 404-6번지   37.546144  126.938931\n",
       "4   홀짝홀짝       서울특별시 마포구 서교동 355-25   37.553685  126.918553"
      ]
     },
     "execution_count": 66,
     "metadata": {},
     "output_type": "execute_result"
    }
   ],
   "source": [
    "import pandas as pd\n",
    "from sklearn.cluster import KMeans\n",
    "import matplotlib.pyplot as plt\n",
    "\n",
    "# 데이터 불러오기\n",
    "df = pd.read_csv(\"../data/processed/mapo_restaurants.csv\")\n",
    "\n",
    "# 확인\n",
    "df.head()"
   ]
  },
  {
   "cell_type": "markdown",
   "metadata": {},
   "source": [
    "## 📊 2. 클러스터링 수행 (KMeans)"
   ]
  },
  {
   "cell_type": "code",
   "execution_count": 67,
   "metadata": {},
   "outputs": [
    {
     "data": {
      "text/html": [
       "<div>\n",
       "<style scoped>\n",
       "    .dataframe tbody tr th:only-of-type {\n",
       "        vertical-align: middle;\n",
       "    }\n",
       "\n",
       "    .dataframe tbody tr th {\n",
       "        vertical-align: top;\n",
       "    }\n",
       "\n",
       "    .dataframe thead th {\n",
       "        text-align: right;\n",
       "    }\n",
       "</style>\n",
       "<table border=\"1\" class=\"dataframe\">\n",
       "  <thead>\n",
       "    <tr style=\"text-align: right;\">\n",
       "      <th></th>\n",
       "      <th>사업장명</th>\n",
       "      <th>지번주소</th>\n",
       "      <th>위도</th>\n",
       "      <th>경도</th>\n",
       "      <th>cluster</th>\n",
       "    </tr>\n",
       "  </thead>\n",
       "  <tbody>\n",
       "    <tr>\n",
       "      <th>0</th>\n",
       "      <td>해적쭈꾸미</td>\n",
       "      <td>서울특별시 마포구 망원동 394-89번지 1층</td>\n",
       "      <td>37.552936</td>\n",
       "      <td>126.903311</td>\n",
       "      <td>3</td>\n",
       "    </tr>\n",
       "    <tr>\n",
       "      <th>1</th>\n",
       "      <td>보물섬</td>\n",
       "      <td>서울특별시 마포구 아현동 326-24번지</td>\n",
       "      <td>37.555927</td>\n",
       "      <td>126.951907</td>\n",
       "      <td>1</td>\n",
       "    </tr>\n",
       "    <tr>\n",
       "      <th>2</th>\n",
       "      <td>굴다리식당</td>\n",
       "      <td>서울특별시 마포구 도화동 25-6번지 ,7</td>\n",
       "      <td>37.542255</td>\n",
       "      <td>126.948966</td>\n",
       "      <td>1</td>\n",
       "    </tr>\n",
       "    <tr>\n",
       "      <th>3</th>\n",
       "      <td>우리왕만두</td>\n",
       "      <td>서울특별시 마포구 대흥동 404-6번지</td>\n",
       "      <td>37.546144</td>\n",
       "      <td>126.938931</td>\n",
       "      <td>1</td>\n",
       "    </tr>\n",
       "    <tr>\n",
       "      <th>4</th>\n",
       "      <td>홀짝홀짝</td>\n",
       "      <td>서울특별시 마포구 서교동 355-25</td>\n",
       "      <td>37.553685</td>\n",
       "      <td>126.918553</td>\n",
       "      <td>0</td>\n",
       "    </tr>\n",
       "  </tbody>\n",
       "</table>\n",
       "</div>"
      ],
      "text/plain": [
       "    사업장명                        지번주소         위도          경도  cluster\n",
       "0  해적쭈꾸미  서울특별시 마포구 망원동 394-89번지 1층   37.552936  126.903311        3\n",
       "1    보물섬     서울특별시 마포구 아현동 326-24번지   37.555927  126.951907        1\n",
       "2  굴다리식당    서울특별시 마포구 도화동 25-6번지 ,7   37.542255  126.948966        1\n",
       "3  우리왕만두      서울특별시 마포구 대흥동 404-6번지   37.546144  126.938931        1\n",
       "4   홀짝홀짝       서울특별시 마포구 서교동 355-25   37.553685  126.918553        0"
      ]
     },
     "execution_count": 67,
     "metadata": {},
     "output_type": "execute_result"
    }
   ],
   "source": [
    "# 좌표 데이터만 추출\n",
    "coords = df[[\"위도\", \"경도\"]]\n",
    "\n",
    "# Kmeans 클러스터링\n",
    "k = 5  # 클러스터 개수\n",
    "kmeans = KMeans(n_clusters=k, random_state=42)\n",
    "df[\"cluster\"] = kmeans.fit_predict(coords)\n",
    "\n",
    "# 결과 확인\n",
    "df.head()"
   ]
  },
  {
   "cell_type": "markdown",
   "metadata": {},
   "source": [
    "## 🧼 3. 클러스터링 결과 시각화 (산점도)"
   ]
  },
  {
   "cell_type": "code",
   "execution_count": 68,
   "metadata": {},
   "outputs": [],
   "source": [
    "#!rm -rf ~/.cache/matplotlib"
   ]
  },
  {
   "cell_type": "code",
   "execution_count": 69,
   "metadata": {},
   "outputs": [],
   "source": [
    "import matplotlib.font_manager as fm\n",
    "import platform\n",
    "\n",
    "# 한글 폰트 설정 (운영체체 별)\n",
    "if platform.system() == \"Windows\":\n",
    "    plt.rc(\"font\", family=\"Malgun Gothic\")\n",
    "elif platform.system() == \"Darwin\":\n",
    "    plt.rc(\"font\", family=\"AppleGothic\")\n",
    "else:\n",
    "    plt.rc(\"font\", family=\"NanumGothic\")\n",
    "\n",
    "# 마이너스 기호 깨짐 방지\n",
    "plt.rcParams[\"axes.unicode_minus\"] = False"
   ]
  },
  {
   "cell_type": "code",
   "execution_count": 70,
   "metadata": {},
   "outputs": [
    {
     "data": {
      "image/png": "[encoded data removed]",
      "text/plain": [
       "<Figure size 800x600 with 1 Axes>"
      ]
     },
     "metadata": {},
     "output_type": "display_data"
    }
   ],
   "source": [
    "plt.figure(figsize=(8, 6))\n",
    "plt.scatter(df[\"경도\"], df[\"위도\"], c=df[\"cluster\"], cmap=\"tab10\", s=10)\n",
    "plt.title(\"마포구 음식점 클러스터링 결과\")\n",
    "plt.xlabel(\"경도\")\n",
    "plt.ylabel(\"위도\")\n",
    "plt.grid(True)\n",
    "plt.show()"
   ]
  },
  {
   "cell_type": "markdown",
   "metadata": {},
   "source": [
    "## 💾 4. 클러스터링 결과 저장 (지도에서 활용 예정)"
   ]
  },
  {
   "cell_type": "code",
   "execution_count": 71,
   "metadata": {},
   "outputs": [],
   "source": [
    "df.to_csv(\"../data/processed/mapo_restaurants_clustered.csv\", index=False)"
   ]
  },
  {
   "cell_type": "markdown",
   "metadata": {},
   "source": [
    "## 🎯 최적 클러스터 개수 찾기 (Elbow Method)"
   ]
  },
  {
   "cell_type": "code",
   "execution_count": 72,
   "metadata": {},
   "outputs": [],
   "source": [
    "coords = df[[\"위도\", \"경도\"]]"
   ]
  },
  {
   "cell_type": "code",
   "execution_count": 73,
   "metadata": {},
   "outputs": [
    {
     "data": {
      "image/png": "[encoded data removed]",
      "text/plain": [
       "<Figure size 640x480 with 1 Axes>"
      ]
     },
     "metadata": {},
     "output_type": "display_data"
    }
   ],
   "source": [
    "from sklearn.cluster import KMeans\n",
    "import matplotlib.pyplot as plt\n",
    "\n",
    "inertias = []\n",
    "K = range(1, 10)\n",
    "\n",
    "for k in K:\n",
    "    model = KMeans(n_clusters=k, random_state=42)\n",
    "    model.fit(coords)\n",
    "    inertias.append(model.inertia_)\n",
    "\n",
    "plt.plot(K, inertias, \"bo-\")\n",
    "plt.xlabel(\"클러스터 개수 (k)\")\n",
    "plt.ylabel(\"Inertia (군집 내 거리 합)\")\n",
    "plt.title(\"엘보우 메소드\")\n",
    "plt.grid(True)\n",
    "plt.show()"
   ]
  },
  {
   "cell_type": "markdown",
   "metadata": {},
   "source": [
    "## 📘 시각화 코드 (최적 k 찾기용) - Silhouette Score"
   ]
  },
  {
   "cell_type": "code",
   "execution_count": 74,
   "metadata": {},
   "outputs": [
    {
     "data": {
      "image/png": "[encoded data removed]",
      "text/plain": [
       "<Figure size 640x480 with 1 Axes>"
      ]
     },
     "metadata": {},
     "output_type": "display_data"
    }
   ],
   "source": [
    "from sklearn.cluster import KMeans\n",
    "from sklearn.metrics import silhouette_score\n",
    "import matplotlib.pyplot as plt\n",
    "\n",
    "silhouette_scores = []\n",
    "K = range(2, 10)  # 최소 2부터 시작해야 silhouette score 계산 가능\n",
    "\n",
    "for k in K:\n",
    "    model = KMeans(n_clusters=k, random_state=42)\n",
    "    labels = model.fit_predict(coords)\n",
    "    score = silhouette_score(coords, labels)\n",
    "    silhouette_scores.append(score)\n",
    "\n",
    "# 시각화\n",
    "plt.plot(K, silhouette_scores, \"bo-\")\n",
    "plt.xlabel(\"클러스터 개수 (k)\")\n",
    "plt.ylabel(\"Silhouette Score\")\n",
    "plt.title(\"Silhouette Score로 본 최적 k\")\n",
    "plt.grid(True)\n",
    "plt.show()"
   ]
  },
  {
   "cell_type": "markdown",
   "metadata": {},
   "source": [
    "## ✅ 1. DBSCAN (Density-Based Spatial Clustering of Applications with Noise)"
   ]
  },
  {
   "cell_type": "markdown",
   "metadata": {},
   "source": [
    "### 📌 특징\n",
    "- 밀도 기반 클러스터링 알고리즘\n",
    "- **이웃이 많은 지점을 중심으로 클러스터 형성**\n",
    "- **클러스터 수 자동 결정**\n",
    "- **노이즈(군집에 속하지 않는 점)**도 자동 감지함"
   ]
  },
  {
   "cell_type": "code",
   "execution_count": 77,
   "metadata": {},
   "outputs": [
    {
     "name": "stdout",
     "output_type": "stream",
     "text": [
      "dbscan_cluster\n",
      "0      16673\n",
      "2       2065\n",
      "3       1771\n",
      "20       739\n",
      "1        471\n",
      "       ...  \n",
      "112        5\n",
      "85         5\n",
      "114        5\n",
      "4          5\n",
      "82         5\n",
      "Name: count, Length: 136, dtype: int64\n"
     ]
    }
   ],
   "source": [
    "from sklearn.cluster import DBSCAN\n",
    "from sklearn.preprocessing import StandardScaler\n",
    "\n",
    "# 좌표를 표준화 (경도/위도는 거리 단위가 달라서 꼭 필요)\n",
    "scaler = StandardScaler()\n",
    "coords_scaled = scaler.fit_transform(df[[\"위도\", \"경도\"]])\n",
    "\n",
    "# DBSCAN 모델 정의\n",
    "dbscan = DBSCAN(eps=0.05, min_samples=5)  # eps: 반경, min_samples: 최소 이웃 수\n",
    "df[\"dbscan_cluster\"] = dbscan.fit_predict(coords_scaled)\n",
    "\n",
    "# 클러스터 개수 확인 (-1은 노이즈)\n",
    "print(df[\"dbscan_cluster\"].value_counts())"
   ]
  },
  {
   "cell_type": "code",
   "execution_count": 78,
   "metadata": {},
   "outputs": [
    {
     "data": {
      "text/plain": [
       "<Axes: title={'center': '상위 10개 클러스터'}, xlabel='dbscan_cluster'>"
      ]
     },
     "execution_count": 78,
     "metadata": {},
     "output_type": "execute_result"
    },
    {
     "data": {
      "image/png": "[encoded data removed]",
      "text/plain": [
       "<Figure size 640x480 with 1 Axes>"
      ]
     },
     "metadata": {},
     "output_type": "display_data"
    }
   ],
   "source": [
    "df[\"dbscan_cluster\"].value_counts().head(10).plot(\n",
    "    kind=\"bar\", title=\"상위 10개 클러스터\"\n",
    ")"
   ]
  },
  {
   "cell_type": "markdown",
   "metadata": {},
   "source": [
    "## ✅ 2. Mean Shift"
   ]
  },
  {
   "cell_type": "markdown",
   "metadata": {},
   "source": [
    "### 📌 특징\n",
    "- 데이터의 **확률 밀도가 높은 영역 중심**으로 점들을 이동시키며 클러스터링\n",
    "- **자동으로 군집 수 결정**\n",
    "- KMeans보다 연산량은 많지만, 군집 수 지정 없이 부드럽게 클러스터링 가능"
   ]
  },
  {
   "cell_type": "code",
   "execution_count": 75,
   "metadata": {},
   "outputs": [
    {
     "name": "stdout",
     "output_type": "stream",
     "text": [
      "meanshift_cluster\n",
      "0    16751\n",
      "1     7280\n",
      "2     2684\n",
      "3        1\n",
      "Name: count, dtype: int64\n"
     ]
    }
   ],
   "source": [
    "from sklearn.cluster import MeanShift\n",
    "\n",
    "# MeanShift는 거리 기준으로 자동 군집화\n",
    "meanshift = MeanShift()\n",
    "df[\"meanshift_cluster\"] = meanshift.fit_predict(coords)\n",
    "\n",
    "# 군집 수 확인\n",
    "print(df[\"meanshift_cluster\"].value_counts())"
   ]
  },
  {
   "cell_type": "markdown",
   "metadata": {},
   "source": [
    "## ✅ 결론: **k = 3이 가장 적절한 클러스터 수**\n",
    "\n",
    "- **Silhouette Score** 기준에서 가장 높은 값을 기록\n",
    "- 이는 **데이터가 세 개의 명확한 그룹**으로 나뉜다는 강력한 근거입니다\n",
    "- Elbow Method에서도 `k=3`에서 큰 꺾임이 있었으므로, **두 방법이 일치**하는 결과예요 → ✔️ 매우 신뢰할 수 있음"
   ]
  },
  {
   "cell_type": "markdown",
   "metadata": {},
   "source": [
    "## ✅ 1. 클러스터 재실행 (`k = 3`)"
   ]
  },
  {
   "cell_type": "code",
   "execution_count": 65,
   "metadata": {},
   "outputs": [],
   "source": [
    "from sklearn.cluster import KMeans\n",
    "\n",
    "# 위치 데이터만 사용\n",
    "coords = df[[\"위도\", \"경도\"]]\n",
    "\n",
    "# 클러스터링 수행 (k=3)\n",
    "kmeans = KMeans(n_clusters=3, random_state=42)\n",
    "df[\"cluster\"] = kmeans.fit_predict(coords)\n",
    "\n",
    "# 결과 저장 (선택)\n",
    "df.to_csv(\"../data/processed/mapo_restaurants_clustered_k3.csv\", index=False)"
   ]
  },
  {
   "cell_type": "markdown",
   "metadata": {},
   "source": [
    "## 📊 2. 각 클러스터별 요약 통계"
   ]
  },
  {
   "cell_type": "markdown",
   "metadata": {},
   "source": [
    "### ✔️ 클러스터별 음식점 수"
   ]
  },
  {
   "cell_type": "code",
   "execution_count": 51,
   "metadata": {},
   "outputs": [
    {
     "name": "stdout",
     "output_type": "stream",
     "text": [
      "클러스터별 음식점 수:\n",
      " cluster\n",
      "0    15106\n",
      "1     6982\n",
      "2     4628\n",
      "Name: count, dtype: int64\n"
     ]
    }
   ],
   "source": [
    "cluster_counts = df[\"cluster\"].value_counts().sort_index()\n",
    "print(\"클러스터별 음식점 수:\\n\", cluster_counts)"
   ]
  },
  {
   "cell_type": "markdown",
   "metadata": {},
   "source": [
    "### ✔️ 클러스터별 중심 좌표 출력"
   ]
  },
  {
   "cell_type": "code",
   "execution_count": 52,
   "metadata": {},
   "outputs": [
    {
     "name": "stdout",
     "output_type": "stream",
     "text": [
      "클러스터 0: 위도=37.55413, 경도=126.91843\n",
      "클러스터 1: 위도=37.54670, 경도=126.94461\n",
      "클러스터 2: 위도=37.56752, 경도=126.89694\n"
     ]
    }
   ],
   "source": [
    "# 중심 좌표 확인\n",
    "centers = kmeans.cluster_centers_\n",
    "for i, (lat, lon) in enumerate(centers):\n",
    "    print(f\"클러스터 {i}: 위도={lat:.5f}, 경도={lon:.5f}\")"
   ]
  },
  {
   "cell_type": "markdown",
   "metadata": {},
   "source": [
    "### ✔️ 각 클러스터에서 대표 음식점 3개씩 확인"
   ]
  },
  {
   "cell_type": "code",
   "execution_count": 53,
   "metadata": {},
   "outputs": [
    {
     "name": "stdout",
     "output_type": "stream",
     "text": [
      "\n",
      "[클러스터 0 대표 음식점]\n"
     ]
    },
    {
     "data": {
      "text/html": [
       "<div>\n",
       "<style scoped>\n",
       "    .dataframe tbody tr th:only-of-type {\n",
       "        vertical-align: middle;\n",
       "    }\n",
       "\n",
       "    .dataframe tbody tr th {\n",
       "        vertical-align: top;\n",
       "    }\n",
       "\n",
       "    .dataframe thead th {\n",
       "        text-align: right;\n",
       "    }\n",
       "</style>\n",
       "<table border=\"1\" class=\"dataframe\">\n",
       "  <thead>\n",
       "    <tr style=\"text-align: right;\">\n",
       "      <th></th>\n",
       "      <th>사업장명</th>\n",
       "      <th>지번주소</th>\n",
       "    </tr>\n",
       "  </thead>\n",
       "  <tbody>\n",
       "    <tr>\n",
       "      <th>0</th>\n",
       "      <td>해적쭈꾸미</td>\n",
       "      <td>서울특별시 마포구 망원동 394-89번지 1층</td>\n",
       "    </tr>\n",
       "    <tr>\n",
       "      <th>4</th>\n",
       "      <td>홀짝홀짝</td>\n",
       "      <td>서울특별시 마포구 서교동 355-25</td>\n",
       "    </tr>\n",
       "    <tr>\n",
       "      <th>6</th>\n",
       "      <td>자매분식</td>\n",
       "      <td>서울특별시 마포구 신수동 101-15번지</td>\n",
       "    </tr>\n",
       "  </tbody>\n",
       "</table>\n",
       "</div>"
      ],
      "text/plain": [
       "    사업장명                        지번주소\n",
       "0  해적쭈꾸미  서울특별시 마포구 망원동 394-89번지 1층 \n",
       "4   홀짝홀짝       서울특별시 마포구 서교동 355-25 \n",
       "6   자매분식     서울특별시 마포구 신수동 101-15번지 "
      ]
     },
     "metadata": {},
     "output_type": "display_data"
    },
    {
     "name": "stdout",
     "output_type": "stream",
     "text": [
      "\n",
      "[클러스터 1 대표 음식점]\n"
     ]
    },
    {
     "data": {
      "text/html": [
       "<div>\n",
       "<style scoped>\n",
       "    .dataframe tbody tr th:only-of-type {\n",
       "        vertical-align: middle;\n",
       "    }\n",
       "\n",
       "    .dataframe tbody tr th {\n",
       "        vertical-align: top;\n",
       "    }\n",
       "\n",
       "    .dataframe thead th {\n",
       "        text-align: right;\n",
       "    }\n",
       "</style>\n",
       "<table border=\"1\" class=\"dataframe\">\n",
       "  <thead>\n",
       "    <tr style=\"text-align: right;\">\n",
       "      <th></th>\n",
       "      <th>사업장명</th>\n",
       "      <th>지번주소</th>\n",
       "    </tr>\n",
       "  </thead>\n",
       "  <tbody>\n",
       "    <tr>\n",
       "      <th>1</th>\n",
       "      <td>보물섬</td>\n",
       "      <td>서울특별시 마포구 아현동 326-24번지</td>\n",
       "    </tr>\n",
       "    <tr>\n",
       "      <th>2</th>\n",
       "      <td>굴다리식당</td>\n",
       "      <td>서울특별시 마포구 도화동 25-6번지 ,7</td>\n",
       "    </tr>\n",
       "    <tr>\n",
       "      <th>3</th>\n",
       "      <td>우리왕만두</td>\n",
       "      <td>서울특별시 마포구 대흥동 404-6번지</td>\n",
       "    </tr>\n",
       "  </tbody>\n",
       "</table>\n",
       "</div>"
      ],
      "text/plain": [
       "    사업장명                      지번주소\n",
       "1    보물섬   서울특별시 마포구 아현동 326-24번지 \n",
       "2  굴다리식당  서울특별시 마포구 도화동 25-6번지 ,7 \n",
       "3  우리왕만두    서울특별시 마포구 대흥동 404-6번지 "
      ]
     },
     "metadata": {},
     "output_type": "display_data"
    },
    {
     "name": "stdout",
     "output_type": "stream",
     "text": [
      "\n",
      "[클러스터 2 대표 음식점]\n"
     ]
    },
    {
     "data": {
      "text/html": [
       "<div>\n",
       "<style scoped>\n",
       "    .dataframe tbody tr th:only-of-type {\n",
       "        vertical-align: middle;\n",
       "    }\n",
       "\n",
       "    .dataframe tbody tr th {\n",
       "        vertical-align: top;\n",
       "    }\n",
       "\n",
       "    .dataframe thead th {\n",
       "        text-align: right;\n",
       "    }\n",
       "</style>\n",
       "<table border=\"1\" class=\"dataframe\">\n",
       "  <thead>\n",
       "    <tr style=\"text-align: right;\">\n",
       "      <th></th>\n",
       "      <th>사업장명</th>\n",
       "      <th>지번주소</th>\n",
       "    </tr>\n",
       "  </thead>\n",
       "  <tbody>\n",
       "    <tr>\n",
       "      <th>5</th>\n",
       "      <td>이모네포장마차</td>\n",
       "      <td>서울특별시 마포구 망원동 419-3번지 3동 6호</td>\n",
       "    </tr>\n",
       "    <tr>\n",
       "      <th>19</th>\n",
       "      <td>낙지촌</td>\n",
       "      <td>서울특별시 마포구 망원동 485-38번지 1층</td>\n",
       "    </tr>\n",
       "    <tr>\n",
       "      <th>20</th>\n",
       "      <td>부산어묵</td>\n",
       "      <td>서울특별시 마포구 망원동 411-22번지 1층</td>\n",
       "    </tr>\n",
       "  </tbody>\n",
       "</table>\n",
       "</div>"
      ],
      "text/plain": [
       "       사업장명                          지번주소\n",
       "5   이모네포장마차  서울특별시 마포구 망원동 419-3번지 3동 6호 \n",
       "19      낙지촌    서울특별시 마포구 망원동 485-38번지 1층 \n",
       "20     부산어묵    서울특별시 마포구 망원동 411-22번지 1층 "
      ]
     },
     "metadata": {},
     "output_type": "display_data"
    }
   ],
   "source": [
    "for i in range(3):\n",
    "    print(f\"\\n[클러스터 {i} 대표 음식점]\")\n",
    "    display(df[df[\"cluster\"] == i][[\"사업장명\", \"지번주소\"]].head(3))"
   ]
  },
  {
   "cell_type": "markdown",
   "metadata": {},
   "source": [
    "## 📍 선택: 클러스터별 중심 좌표를 지도에 표시하고 싶다면"
   ]
  },
  {
   "cell_type": "code",
   "execution_count": 54,
   "metadata": {},
   "outputs": [],
   "source": [
    "import folium\n",
    "\n",
    "# 지도 초기화\n",
    "m = folium.Map(location=[coords[\"위도\"].mean(), coords[\"경도\"].mean()], zoom_start=14)\n",
    "\n",
    "# 음식점 마커\n",
    "colors = [\"red\", \"blue\", \"green\"]\n",
    "for _, row in df.iterrows():\n",
    "    folium.CircleMarker(\n",
    "        location=[row[\"위도\"], row[\"경도\"]],\n",
    "        radius=3,\n",
    "        color=colors[row[\"cluster\"]],\n",
    "        fill=True,\n",
    "        fill_opacity=0.6,\n",
    "        popup=row[\"사업장명\"],\n",
    "    ).add_to(m)\n",
    "\n",
    "# 중심점 마커\n",
    "for i, (lat, lon) in enumerate(centers):\n",
    "    folium.Marker(\n",
    "        location=[lat, lon],\n",
    "        popup=f\"클러스터 {i} 중심\",\n",
    "        icon=folium.Icon(color=colors[i], icon=\"info-sign\"),\n",
    "    ).add_to(m)\n",
    "\n",
    "# 저장\n",
    "m.save(\"../outputs/mapo_clusters_k3_with_centers.html\")"
   ]
  },
  {
   "cell_type": "markdown",
   "metadata": {},
   "source": [
    "## 🎉 결과적으로 얻는 것\n",
    "\n",
    "- 클러스터 3개 중 어떤 지역이 상권 중심인지 알 수 있음\n",
    "- 향후 상권 유형 분석, 입지 추천 등으로 확장 가능"
   ]
  },
  {
   "cell_type": "code",
   "execution_count": null,
   "metadata": {},
   "outputs": [],
   "source": []
  }
 ],
 "metadata": {
  "kernelspec": {
   "display_name": "foodmap_venv",
   "language": "python",
   "name": "python3"
  },
  "language_info": {
   "codemirror_mode": {
    "name": "ipython",
    "version": 3
   },
   "file_extension": ".py",
   "mimetype": "text/x-python",
   "name": "python",
   "nbconvert_exporter": "python",
   "pygments_lexer": "ipython3",
   "version": "3.10.16"
  }
 },
 "nbformat": 4,
 "nbformat_minor": 2
}
