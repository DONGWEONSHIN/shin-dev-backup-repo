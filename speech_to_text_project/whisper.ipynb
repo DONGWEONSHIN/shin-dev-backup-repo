{
 "cells": [
  {
   "cell_type": "code",
   "execution_count": null,
   "metadata": {},
   "outputs": [],
   "source": [
    "# Python : 3.10.15\n",
    "# Created: Mar. 27. 2025\n",
    "# Updated: Mar. 27. 2025\n",
    "# Author: D.W. SHIN\n",
    "# Description: Configuration file for whisper (https://github.com/openai/whisper?tab=readme-ov-file#python-usage)\n",
    "\n",
    "import whisper\n",
    "\n",
    "device = \"cuda\"\n",
    "audio_file = \"temp/audio.m4a\""
   ]
  },
  {
   "cell_type": "code",
   "execution_count": null,
   "metadata": {},
   "outputs": [],
   "source": [
    "# !pip install -U openai-whisper"
   ]
  },
  {
   "cell_type": "code",
   "execution_count": null,
   "metadata": {},
   "outputs": [],
   "source": [
    "# 1. Load the model\n",
    "model = whisper.load_model(\"large-v2\", device)"
   ]
  },
  {
   "cell_type": "code",
   "execution_count": null,
   "metadata": {},
   "outputs": [],
   "source": [
    "audio = whisper.load_audio(audio_file)\n",
    "result = model.transcribe(audio)\n",
    "print(result[\"text\"])"
   ]
  },
  {
   "cell_type": "code",
   "execution_count": null,
   "metadata": {},
   "outputs": [],
   "source": []
  }
 ],
 "metadata": {
  "kernelspec": {
   "display_name": "whis_venv",
   "language": "python",
   "name": "python3"
  },
  "language_info": {
   "codemirror_mode": {
    "name": "ipython",
    "version": 3
   },
   "file_extension": ".py",
   "mimetype": "text/x-python",
   "name": "python",
   "nbconvert_exporter": "python",
   "pygments_lexer": "ipython3",
   "version": "3.10.16"
  }
 },
 "nbformat": 4,
 "nbformat_minor": 2
}
